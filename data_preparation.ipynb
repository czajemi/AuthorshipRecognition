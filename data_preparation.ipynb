{
 "cells": [
  {
   "cell_type": "code",
   "execution_count": 49,
   "outputs": [
    {
     "name": "stdout",
     "output_type": "stream",
     "text": [
      "done\n"
     ]
    }
   ],
   "source": [
    "import pandas as pd\n",
    "import re\n",
    "\n",
    "def remove_non_words(df):\n",
    "    for column in df.columns:\n",
    "        df[column] = df[column].apply(lambda x: re.sub(r'\\W+', ' ', str(x)))\n",
    "    return df\n",
    "\n",
    "\n",
    "df = pd.read_excel('database_questions_answers.xlsx')\n",
    "\n",
    "# Removing all characters except for words\n",
    "df = remove_non_words(df)\n",
    "\n",
    "\n",
    "df.to_csv('cleaned_data.csv', index=False)\n",
    "\n",
    "print(\"done\")"
   ],
   "metadata": {
    "collapsed": false,
    "pycharm": {
     "name": "#%%\n"
    }
   }
  },
  {
   "cell_type": "code",
   "execution_count": 50,
   "outputs": [
    {
     "name": "stderr",
     "output_type": "stream",
     "text": [
      "[nltk_data] Downloading package stopwords to\n",
      "[nltk_data]     C:\\Users\\eczaj\\AppData\\Roaming\\nltk_data...\n",
      "[nltk_data]   Package stopwords is already up-to-date!\n"
     ]
    },
    {
     "name": "stdout",
     "output_type": "stream",
     "text": [
      "zapisano\n"
     ]
    }
   ],
   "source": [
    "import pandas as pd\n",
    "import nltk\n",
    "import string\n",
    "\n",
    "# Fetching \"stop words\" from the English language\n",
    "nltk.download('stopwords')\n",
    "from nltk.corpus import stopwords\n",
    "stop_words = set(stopwords.words('english'))\n",
    "\n",
    "\n",
    "df = pd.read_csv(\"cleaned_data.csv\")\n",
    "\n",
    "\n",
    "df = df[['Human_response', 'ChatGPT_3_5_response']]\n",
    "\n",
    "# Changing uppercase letters to lowercase\n",
    "df['Human_response'] = df['Human_response'].str.lower()\n",
    "df['ChatGPT_3_5_response'] = df['ChatGPT_3_5_response'].str.lower()\n",
    "\n",
    "\n",
    "# Removing punctuation marks\n",
    "df['Human_response'] = df['Human_response'].apply(lambda x: ''.join(ch for ch in x if ch not in string.punctuation))\n",
    "df['ChatGPT_3_5_response'] = df['ChatGPT_3_5_response'].apply(lambda x: ''.join(ch for ch in x if ch not in string.punctuation))\n",
    "\n",
    "# Removing \"stop words\"\n",
    "df['Human_response'] = df['Human_response'].apply(lambda x: ' '.join(word for word in x.split() if word not in stop_words))\n",
    "df['ChatGPT_3_5_response'] = df['ChatGPT_3_5_response'].apply(lambda x: ' '.join(word for word in x.split() if word not in stop_words))\n",
    "\n",
    "df.to_csv('cleaned_data_final.csv', index=False)"
   ],
   "metadata": {
    "collapsed": false,
    "pycharm": {
     "name": "#%%\n"
    }
   }
  },
  {
   "cell_type": "code",
   "execution_count": null,
   "outputs": [],
   "source": [],
   "metadata": {
    "collapsed": false,
    "pycharm": {
     "name": "#%%\n"
    }
   }
  }
 ],
 "metadata": {
  "kernelspec": {
   "display_name": "Python 3",
   "language": "python",
   "name": "python3"
  },
  "language_info": {
   "codemirror_mode": {
    "name": "ipython",
    "version": 2
   },
   "file_extension": ".py",
   "mimetype": "text/x-python",
   "name": "python",
   "nbconvert_exporter": "python",
   "pygments_lexer": "ipython2",
   "version": "2.7.6"
  }
 },
 "nbformat": 4,
 "nbformat_minor": 0
}