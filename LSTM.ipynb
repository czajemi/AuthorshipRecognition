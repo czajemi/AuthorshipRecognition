{
 "cells": [
  {
   "cell_type": "code",
   "execution_count": 5,
   "metadata": {
    "collapsed": true
   },
   "outputs": [
    {
     "name": "stdout",
     "output_type": "stream",
     "text": [
      "Epoch 1/7\n",
      "50/50 - 78s - loss: 0.4891 - accuracy: 0.7706 - 78s/epoch - 2s/step\n",
      "Epoch 2/7\n",
      "50/50 - 71s - loss: 0.0834 - accuracy: 0.9725 - 71s/epoch - 1s/step\n",
      "Epoch 3/7\n",
      "50/50 - 60s - loss: 0.0395 - accuracy: 0.9887 - 60s/epoch - 1s/step\n",
      "Epoch 4/7\n",
      "50/50 - 60s - loss: 0.0176 - accuracy: 0.9950 - 60s/epoch - 1s/step\n",
      "Epoch 5/7\n",
      "50/50 - 62s - loss: 0.0147 - accuracy: 0.9981 - 62s/epoch - 1s/step\n",
      "Epoch 6/7\n",
      "50/50 - 59s - loss: 0.0036 - accuracy: 0.9994 - 59s/epoch - 1s/step\n",
      "Epoch 7/7\n",
      "50/50 - 60s - loss: 0.0010 - accuracy: 1.0000 - 60s/epoch - 1s/step\n",
      "13/13 - 3s - loss: 0.1498 - accuracy: 0.9650 - 3s/epoch - 249ms/step\n",
      "Accuracy: 0.96\n"
     ]
    }
   ],
   "source": [
    "import tensorflow as tf\n",
    "import pandas as pd\n",
    "from sklearn.model_selection import train_test_split\n",
    "from sklearn.preprocessing import LabelEncoder\n",
    "from tensorflow.keras.models import Sequential\n",
    "from tensorflow.keras.layers import Dense, Embedding, LSTM, SpatialDropout1D\n",
    "from tensorflow.keras.preprocessing.text import Tokenizer\n",
    "from tensorflow.keras.preprocessing.sequence import pad_sequences\n",
    "from tensorflow.keras.utils import to_categorical\n",
    "\n",
    "\n",
    "data = pd.read_csv('cleaned_data_final.csv')\n",
    "\n",
    "# Transforming the data so that each row contains one response and one label\n",
    "responses = data['Human_response'].tolist() + data['ChatGPT_3_5_response'].tolist()\n",
    "labels = [0] * len(data['Human_response']) + [1] * len(data['ChatGPT_3_5_response'])\n",
    "data_combined = pd.DataFrame({'response': responses, 'label': labels})\n",
    "\n",
    "# Text tokenization\n",
    "max_features = 2000\n",
    "tokenizer = Tokenizer(num_words=max_features, split=' ')\n",
    "tokenizer.fit_on_texts(data_combined['response'].values)\n",
    "X = tokenizer.texts_to_sequences(data_combined['response'].values)\n",
    "X = pad_sequences(X)\n",
    "\n",
    "\n",
    "labelencoder = LabelEncoder()\n",
    "integer_encoded = labelencoder.fit_transform(data_combined['label'])\n",
    "y = to_categorical(integer_encoded)\n",
    "\n",
    "# Splitting the data into a training set and a test set\n",
    "X_train, X_test, y_train, y_test = train_test_split(X, y, test_size=0.2, random_state=42)\n",
    "\n",
    "# Building the model\n",
    "embed_dim = 128\n",
    "lstm_out = 196\n",
    "\n",
    "model = Sequential()\n",
    "model.add(Embedding(max_features, embed_dim, input_length=X.shape[1]))\n",
    "model.add(SpatialDropout1D(0.4))\n",
    "model.add(LSTM(lstm_out, dropout=0.2, recurrent_dropout=0.2))\n",
    "model.add(Dense(2, activation='softmax'))\n",
    "model.compile(loss='categorical_crossentropy', optimizer='adam', metrics=['accuracy'])\n",
    "\n",
    "# Training the model\n",
    "batch_size = 32\n",
    "model.fit(X_train, y_train, epochs=7, batch_size=batch_size, verbose=2)\n",
    "\n",
    "# Model evaluation\n",
    "score, acc = model.evaluate(X_test, y_test, verbose=2, batch_size=batch_size)\n",
    "print(\"Accuracy: %.2f\" % (acc))\n"
   ]
  },
  {
   "cell_type": "code",
   "execution_count": 3,
   "outputs": [
    {
     "name": "stdout",
     "output_type": "stream",
     "text": [
      "2.10.0\n"
     ]
    }
   ],
   "source": [
    "import tensorflow as tf\n",
    "\n",
    "print(tf.__version__)"
   ],
   "metadata": {
    "collapsed": false,
    "pycharm": {
     "name": "#%%\n"
    }
   }
  }
 ],
 "metadata": {
  "kernelspec": {
   "display_name": "Python 3",
   "language": "python",
   "name": "python3"
  },
  "language_info": {
   "codemirror_mode": {
    "name": "ipython",
    "version": 2
   },
   "file_extension": ".py",
   "mimetype": "text/x-python",
   "name": "python",
   "nbconvert_exporter": "python",
   "pygments_lexer": "ipython2",
   "version": "2.7.6"
  }
 },
 "nbformat": 4,
 "nbformat_minor": 0
}