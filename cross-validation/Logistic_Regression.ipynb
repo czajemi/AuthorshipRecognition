{
 "cells": [
  {
   "cell_type": "code",
   "execution_count": 61,
   "metadata": {
    "collapsed": true
   },
   "outputs": [
    {
     "name": "stdout",
     "output_type": "stream",
     "text": [
      "Cross-validation Scores: [0.9625   0.934375 0.9375   0.95625  0.965625]\n",
      "Average Cross-validation Accuracy: 0.9512500000000002\n",
      "Test Set Accuracy: 0.9525\n",
      "              precision    recall  f1-score   support\n",
      "\n",
      "           0       0.93      0.97      0.95       199\n",
      "           1       0.97      0.93      0.95       201\n",
      "\n",
      "    accuracy                           0.95       400\n",
      "   macro avg       0.95      0.95      0.95       400\n",
      "weighted avg       0.95      0.95      0.95       400\n",
      "\n"
     ]
    }
   ],
   "source": [
    "import pandas as pd\n",
    "from sklearn.model_selection import train_test_split, cross_val_score\n",
    "from sklearn.feature_extraction.text import CountVectorizer\n",
    "from sklearn.linear_model import LogisticRegression\n",
    "from sklearn.metrics import accuracy_score, classification_report\n",
    "\n",
    "data = pd.read_csv('../cleaned_data_final.csv')\n",
    "\n",
    "# Transforming the data so that each row contains one response and one label\n",
    "responses = data['Human_response'].tolist() + data['ChatGPT_3_5_response'].tolist()\n",
    "labels = [0] * len(data['Human_response']) + [1] * len(data['ChatGPT_3_5_response'])\n",
    "data_combined = pd.DataFrame({'response': responses, 'label': labels})\n",
    "\n",
    "# Splitting the data into a training set and a test set\n",
    "X_train, X_test, y_train, y_test = train_test_split(data_combined['response'], data_combined['label'], test_size=0.2, random_state=42)\n",
    "\n",
    "# Text vectorization\n",
    "vectorizer = CountVectorizer()\n",
    "X_train_vectorized = vectorizer.fit_transform(X_train)\n",
    "\n",
    "# Training the model (without using the X_test and y_test)\n",
    "model = LogisticRegression(random_state=42)\n",
    "model.fit(X_train_vectorized, y_train)\n",
    "\n",
    "# Perform cross-validation\n",
    "cv_scores = cross_val_score(model, X_train_vectorized, y_train, cv=5)  # cv=5 specifies 5-fold cross-validation\n",
    "\n",
    "print(\"Cross-validation Scores:\", cv_scores)\n",
    "print(\"Average Cross-validation Accuracy:\", cv_scores.mean())\n",
    "\n",
    "# The test set for final evaluation\n",
    "X_test_vectorized = vectorizer.transform(X_test)\n",
    "predictions = model.predict(X_test_vectorized)\n",
    "print(\"Test Set Accuracy:\", accuracy_score(y_test, predictions))\n",
    "print(classification_report(y_test, predictions))\n"
   ]
  },
  {
   "cell_type": "code",
   "execution_count": 62,
   "outputs": [
    {
     "data": {
      "text/plain": "<Figure size 640x480 with 2 Axes>",
      "image/png": "[encoded data removed]"
     },
     "metadata": {},
     "output_type": "display_data"
    }
   ],
   "source": [
    "import matplotlib.pyplot as plt\n",
    "from sklearn.metrics import confusion_matrix\n",
    "import seaborn as sns\n",
    "\n",
    "# Compute confusion matrix\n",
    "cm = confusion_matrix(y_test, predictions)\n",
    "\n",
    "# Plot confusion matrix using seaborn\n",
    "sns.heatmap(cm, annot=True, fmt='d', cmap='Blues')\n",
    "plt.xlabel('Predicted')\n",
    "plt.ylabel('Actual')\n",
    "plt.show()"
   ],
   "metadata": {
    "collapsed": false,
    "pycharm": {
     "name": "#%%\n"
    }
   }
  },
  {
   "cell_type": "code",
   "execution_count": 63,
   "outputs": [
    {
     "name": "stdout",
     "output_type": "stream",
     "text": [
      "Actual Label: 0\n",
      "Predicted Label: 1\n",
      "Text: dark character find easy identify sense hopelessness absurdity life philosophical kinds issues always close heart take dim view world understand feelings moods hard throw world desperate driven solve murder way fighting back shit world meaninglessness trying find purpose vindication life become black hole\n",
      "------------------------------------------------------------\n",
      "Actual Label: 1\n",
      "Predicted Label: 0\n",
      "Text: greatest fear losing loved ones able protect also fear able continue love due health limitations\n",
      "------------------------------------------------------------\n",
      "Actual Label: 1\n",
      "Predicted Label: 0\n",
      "Text: sorry personally familiar anyone named michele direct role work possible may misunderstanding confusion could provide context clarify question would happy try address\n",
      "------------------------------------------------------------\n",
      "Actual Label: 1\n",
      "Predicted Label: 0\n",
      "Text: blogger try thoughtful intentional everything post course human made mistakes moments regretted something posted felt could handled situation differently think important take responsibility words actions learn experiences\n",
      "------------------------------------------------------------\n",
      "Actual Label: 1\n",
      "Predicted Label: 0\n",
      "Text: yes definitely considered geek school always interested science technology spent lot time reading books tinkering computers fit popular crowd happy thing pursuing interests\n",
      "------------------------------------------------------------\n"
     ]
    }
   ],
   "source": [
    "import numpy as np\n",
    "# Find misclassified examples\n",
    "misclassified = np.where(y_test != predictions)[0]\n",
    "\n",
    "# Print some misclassified examples\n",
    "for index in misclassified[:5]:\n",
    "    print(\"Actual Label:\", y_test.iloc[index])\n",
    "    print(\"Predicted Label:\", predictions[index])\n",
    "    print(\"Text:\", X_test.iloc[index])\n",
    "    print(\"---\" * 20)\n"
   ],
   "metadata": {
    "collapsed": false,
    "pycharm": {
     "name": "#%%\n"
    }
   }
  }
 ],
 "metadata": {
  "kernelspec": {
   "display_name": "Python 3",
   "language": "python",
   "name": "python3"
  },
  "language_info": {
   "codemirror_mode": {
    "name": "ipython",
    "version": 2
   },
   "file_extension": ".py",
   "mimetype": "text/x-python",
   "name": "python",
   "nbconvert_exporter": "python",
   "pygments_lexer": "ipython2",
   "version": "2.7.6"
  }
 },
 "nbformat": 4,
 "nbformat_minor": 0
}