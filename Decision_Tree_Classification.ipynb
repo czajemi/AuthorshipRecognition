{
 "cells": [
  {
   "cell_type": "code",
   "execution_count": 1,
   "metadata": {
    "collapsed": true
   },
   "outputs": [
    {
     "name": "stdout",
     "output_type": "stream",
     "text": [
      "Accuracy: 0.885\n",
      "              precision    recall  f1-score   support\n",
      "\n",
      "           0       0.87      0.90      0.89       199\n",
      "           1       0.90      0.87      0.88       201\n",
      "\n",
      "    accuracy                           0.89       400\n",
      "   macro avg       0.89      0.89      0.88       400\n",
      "weighted avg       0.89      0.89      0.88       400\n",
      "\n"
     ]
    }
   ],
   "source": [
    "import pandas as pd\n",
    "from sklearn.model_selection import train_test_split\n",
    "from sklearn.feature_extraction.text import CountVectorizer\n",
    "from sklearn.tree import DecisionTreeClassifier\n",
    "from sklearn.metrics import accuracy_score, classification_report\n",
    "\n",
    "\n",
    "data = pd.read_csv('cleaned_data_final.csv')\n",
    "\n",
    "# Transforming the data so that each row contains one response and one label\n",
    "responses = data['Human_response'].tolist() + data['ChatGPT_3_5_response'].tolist()\n",
    "labels = [0] * len(data['Human_response']) + [1] * len(data['ChatGPT_3_5_response'])\n",
    "data_combined = pd.DataFrame({'response': responses, 'label': labels})\n",
    "\n",
    "# Splitting the data into a training set and a test set\n",
    "X_train, X_test, y_train, y_test = train_test_split(data_combined['response'], data_combined['label'], test_size=0.2, random_state=42)\n",
    "\n",
    "# Text vectorization\n",
    "vectorizer = CountVectorizer()\n",
    "X_train_vectorized = vectorizer.fit_transform(X_train)\n",
    "X_test_vectorized = vectorizer.transform(X_test)\n",
    "\n",
    "# Training the model\n",
    "model = DecisionTreeClassifier()\n",
    "model.fit(X_train_vectorized, y_train)\n",
    "\n",
    "# Model evaluation\n",
    "predictions = model.predict(X_test_vectorized)\n",
    "print(\"Accuracy:\", accuracy_score(y_test, predictions))\n",
    "print(classification_report(y_test, predictions))\n",
    "\n"
   ]
  }
 ],
 "metadata": {
  "kernelspec": {
   "display_name": "Python 3",
   "language": "python",
   "name": "python3"
  },
  "language_info": {
   "codemirror_mode": {
    "name": "ipython",
    "version": 2
   },
   "file_extension": ".py",
   "mimetype": "text/x-python",
   "name": "python",
   "nbconvert_exporter": "python",
   "pygments_lexer": "ipython2",
   "version": "2.7.6"
  }
 },
 "nbformat": 4,
 "nbformat_minor": 0
}